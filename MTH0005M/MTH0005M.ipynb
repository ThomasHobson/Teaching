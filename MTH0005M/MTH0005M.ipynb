{
  "nbformat": 4,
  "nbformat_minor": 0,
  "metadata": {
    "colab": {
      "name": "MTH0005M.ipynb",
      "provenance": [],
      "collapsed_sections": []
    },
    "kernelspec": {
      "name": "python3",
      "display_name": "Python 3"
    },
    "language_info": {
      "name": "python"
    }
  },
  "cells": [
    {
      "cell_type": "markdown",
      "source": [
        "# MTH0005M \n",
        "Below is a full run-through of the code created during Python sessions 1, 2 and 3."
      ],
      "metadata": {
        "id": "QH0gH-8WilIt"
      }
    },
    {
      "cell_type": "code",
      "execution_count": null,
      "metadata": {
        "colab": {
          "resources": {
            "http://localhost:8080/nbextensions/google.colab/files.js": {
              "data": "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",
              "ok": true,
              "headers": [
                [
                  "content-type",
                  "application/javascript"
                ]
              ],
              "status": 200,
              "status_text": ""
            }
          },
          "base_uri": "https://localhost:8080/",
          "height": 91
        },
        "id": "_m5bCv8oikZI",
        "outputId": "842dc1a4-c32b-465d-feaf-f9eb6c752659"
      },
      "outputs": [
        {
          "output_type": "display_data",
          "data": {
            "text/plain": [
              "<IPython.core.display.HTML object>"
            ],
            "text/html": [
              "\n",
              "     <input type=\"file\" id=\"files-2d33335c-66ee-47bf-b6cc-6bae42b188e5\" name=\"files[]\" multiple disabled\n",
              "        style=\"border:none\" />\n",
              "     <output id=\"result-2d33335c-66ee-47bf-b6cc-6bae42b188e5\">\n",
              "      Upload widget is only available when the cell has been executed in the\n",
              "      current browser session. Please rerun this cell to enable.\n",
              "      </output>\n",
              "      <script src=\"/nbextensions/google.colab/files.js\"></script> "
            ]
          },
          "metadata": {}
        },
        {
          "output_type": "stream",
          "name": "stdout",
          "text": [
            "Saving Red_Admiral_Data.xlsx to Red_Admiral_Data.xlsx\n"
          ]
        }
      ],
      "source": [
        "from google.colab import files\n",
        "from IPython.display import Image\n",
        "upload = files.upload()"
      ]
    },
    {
      "cell_type": "markdown",
      "source": [
        "## Summary Statistics"
      ],
      "metadata": {
        "id": "v-yzyzmZj0yF"
      }
    },
    {
      "cell_type": "code",
      "source": [
        "'''\n",
        "This script will calculate six summary statistics;\n",
        "arithmetic mean, median, mode, range, standard deviation, interquartile range\n",
        "'''\n",
        "\n",
        "import scipy.stats as stats\n",
        "import numpy as np\n",
        "import pandas as pd\n",
        "\n",
        "#Load Excel data\n",
        "data = pd.read_excel(\"Red_Admiral_Data.xlsx\", usecols=\"B\").to_numpy()\n",
        "\n",
        "#Calculate summary statistics\n",
        "mean = np.mean(data)\n",
        "median = np.median(data)\n",
        "mode = stats.mode(data)\n",
        "rang = np.amax(data) - np.amin(data)\n",
        "stdev = np.std(data)\n",
        "iqr = np.percentile(data,75) - np.percentile(data,25)\n",
        "\n",
        "#Print summary stastics\n",
        "print(\"mean=\", mean)\n",
        "print(\"median=\", median)\n",
        "print(\"mode=\", mode)\n",
        "print(\"range=\", rang)\n",
        "print(\"stdev=\", stdev)\n",
        "print(\"iqr=\", iqr)"
      ],
      "metadata": {
        "colab": {
          "base_uri": "https://localhost:8080/"
        },
        "id": "t6rDScZ5jrAU",
        "outputId": "be65f1c4-3dbd-4046-ae54-74dfc6b9e108"
      },
      "execution_count": null,
      "outputs": [
        {
          "output_type": "stream",
          "name": "stdout",
          "text": [
            "mean= 53.075\n",
            "median= 50.45\n",
            "mode= ModeResult(mode=array([[52.5]]), count=array([[2]]))\n",
            "range= 35.300000000000004\n",
            "stdev= 8.271147139302988\n",
            "iqr= 8.999999999999993\n"
          ]
        }
      ]
    },
    {
      "cell_type": "markdown",
      "source": [
        "## Plot a  Histogram"
      ],
      "metadata": {
        "id": "IKdoj1fpkFN-"
      }
    },
    {
      "cell_type": "code",
      "source": [
        "'''\n",
        "This script will produce a histogram of the data provided.\n",
        "'''\n",
        "\n",
        "import matplotlib.pyplot as plt\n",
        "import pandas as pd\n",
        "\n",
        "#Read Excel data\n",
        "x = pd.read_excel(\"Red_Admiral_Data.xlsx\", usecols=\"C\").to_numpy()\n",
        "\n",
        "#Produce histogram plot\n",
        "plt.hist(x, bins = 5, edgecolor='black') \n",
        "plt.title('Distribution of Wingspan Data') \n",
        "plt.xlabel('Wingspan/mm') \n",
        "plt.ylabel('Frequency')\n",
        "plt.style.use('ggplot')\n",
        "plt.show()"
      ],
      "metadata": {
        "colab": {
          "base_uri": "https://localhost:8080/",
          "height": 295
        },
        "id": "57hmvdI2joFt",
        "outputId": "983beeb0-10fb-4bf2-f990-8c161c3f97bb"
      },
      "execution_count": null,
      "outputs": [
        {
          "output_type": "display_data",
          "data": {
            "text/plain": [
              "<Figure size 432x288 with 1 Axes>"
            ],
            "image/png": "[encoded data removed]"
          },
          "metadata": {
            "needs_background": "light"
          }
        }
      ]
    },
    {
      "cell_type": "markdown",
      "source": [
        "## Calculate Normal Probabilities"
      ],
      "metadata": {
        "id": "UeocTPs_o9KU"
      }
    },
    {
      "cell_type": "code",
      "source": [
        "'''\n",
        "This script will produce probabilities for normal distributed data in three different cases.\n",
        "'''\n",
        "\n",
        "import numpy as np\n",
        "import scipy.stats as stats\n",
        "import math\n",
        "import pandas as pd\n",
        "import statistics\n",
        "\n",
        "#Read Excel data\n",
        "x = pd.read_excel(\"Red_Admiral_Data.xlsx\", usecols=\"D\").to_numpy().T\n",
        "x=x[0,:]\n",
        "\n",
        "#Calculate statistics\n",
        "mu = np.mean(x)                #Calculate mean\n",
        "variance = np.var(x)           #Calculate variance\n",
        "sigma = math.sqrt(variance)    #Calculate standard deviation\n",
        "print(sigma)\n",
        "print(np.std(x))\n",
        "print(statistics.stdev(x))\n",
        "print(statistics.pstdev(x))\n",
        "\n",
        "#Calculate P(X<x)\n",
        "def lessthan(x):\n",
        "    probabilitylessthan = stats.norm.cdf(x, mu, sigma)\n",
        "    return(probabilitylessthan) \n",
        "\n",
        "#Calculate P(X>x)\n",
        "def morethan(x):\n",
        "    probabilitymorethan = 1 - lessthan(x)\n",
        "    return(probabilitymorethan)\n",
        "\n",
        "#Calculate P(x1<X<x2)\n",
        "def between(x1, x2):\n",
        "    if x1>=x2:\n",
        "        print(\"x1 should be lower than x2\")\n",
        "    else:\n",
        "      probabilitybetween = lessthan(x2) - lessthan(x1)\n",
        "      return(probabilitybetween) "
      ],
      "metadata": {
        "id": "5kRdXUy1pBMQ",
        "colab": {
          "base_uri": "https://localhost:8080/"
        },
        "outputId": "8a260206-5ef6-44e6-c7f8-3821ec5612f7"
      },
      "execution_count": null,
      "outputs": [
        {
          "output_type": "stream",
          "name": "stdout",
          "text": [
            "0.05181061667264732\n",
            "0.05181061667264732\n",
            "0.0531565711143183\n",
            "0.05181061667264732\n"
          ]
        }
      ]
    },
    {
      "cell_type": "code",
      "source": [
        "print(lessthan(0.2))\n",
        "print(between(0.2,0.3))\n",
        "print(morethan(0.3))"
      ],
      "metadata": {
        "colab": {
          "base_uri": "https://localhost:8080/"
        },
        "id": "o_T0o3uopTxE",
        "outputId": "b39b5edd-2459-4378-b728-231a477c4323"
      },
      "execution_count": null,
      "outputs": [
        {
          "output_type": "stream",
          "name": "stdout",
          "text": [
            "0.017198081604009638\n",
            "0.40930262690841057\n",
            "0.5734992914875798\n"
          ]
        }
      ]
    },
    {
      "cell_type": "markdown",
      "source": [
        "## Expected Frequencies from Normal Distribution"
      ],
      "metadata": {
        "id": "ElXmx2l-xMTA"
      }
    },
    {
      "cell_type": "code",
      "source": [
        "'''\n",
        "This script will calculate the expected frequencies from a normal distribution.\n",
        "'''\n",
        "\n",
        "import matplotlib.pyplot as plt\n",
        "import numpy as np\n",
        "import scipy.stats as stats\n",
        "import math\n",
        "import pandas as pd\n",
        "\n",
        "#Dataset and number of bins\n",
        "x = pd.read_excel(\"Red_Admiral_Data.xlsx\", usecols=\"C\").to_numpy()\n",
        "numberofbins = 5\n",
        "\n",
        "#Calculate statistics\n",
        "mu = np.mean(x)                #Calculate mean\n",
        "variance = np.var(x)           #Calculate variance\n",
        "sigma = math.sqrt(variance)    #Calculate standard deviation\n",
        "\n",
        "#Produce bin limits\n",
        "y = np.linspace(np.min(x),np.max(x),numberofbins+1)\n",
        "\n",
        "#Calculate expected frequencies\n",
        "expectedfrequencies = np.zeros((numberofbins, 2))                        #Produce array for inputting\n",
        "expectedfrequencies[0,0]=y[0]                                            #Input first lower limit\n",
        "expectedfrequencies[0,1]=stats.norm.cdf(y[1], mu, sigma) * len(x)        #Calculate first expected frequency\n",
        "\n",
        "for i in range(1, numberofbins - 1):                                                              \n",
        "   expectedfrequencies[i,0]=y[i]                                         #Input interior lower limits\n",
        "   expectedfrequencies[i,1]=(stats.norm.cdf(y[i+1], mu, sigma) -  \n",
        "                             stats.norm.cdf(y[i], mu, sigma)) * len(x)   #Calculate interior expected frequencies\n",
        "   \n",
        "expectedfrequencies[numberofbins-1,0]=y[numberofbins-1]                  #Input final lower limit\n",
        "expectedfrequencies[numberofbins-1,1]=((1 - stats.norm.cdf(\n",
        "                                       y[numberofbins-1], mu, sigma))\n",
        "                                       * len(x))                         #Calculate final expected frequency\n",
        "\n",
        "#Plotting the Expected Frequencies\n",
        "width = y[2]-y[1]\n",
        "plt.bar(expectedfrequencies[:,0], expectedfrequencies[:,1],width, align='edge', edgecolor='black')\n",
        "plt.title('Expected Frequencies')\n",
        "plt.xlabel('Wingspan / mm')\n",
        "plt.ylabel('Frequency')\n",
        "plt.style.use('ggplot')\n",
        "plt.show()"
      ],
      "metadata": {
        "colab": {
          "base_uri": "https://localhost:8080/",
          "height": 299
        },
        "id": "jkJgtZ_cxR5c",
        "outputId": "315cdcc5-7370-476e-9a00-6d521c3b8b8c"
      },
      "execution_count": null,
      "outputs": [
        {
          "output_type": "display_data",
          "data": {
            "text/plain": [
              "<Figure size 432x288 with 1 Axes>"
            ],
            "image/png": "[encoded data removed]"
          },
          "metadata": {}
        }
      ]
    },
    {
      "cell_type": "markdown",
      "source": [
        "## Chi-squared Goodness of Fit"
      ],
      "metadata": {
        "id": "rIKQUFd6RX9r"
      }
    },
    {
      "cell_type": "code",
      "source": [
        "import scipy.stats as stats\n",
        "\n",
        "expected = [3.74, 6.25, 5.45, 2.49, 0.592]           #Input expected values\n",
        "observed = [6, 8, 2, 3, 1]                           #Input observed values\n",
        "\n",
        "x = stats.chisquare(f_obs=observed, f_exp=expected)  #Calculate chi-squared value and p value\n",
        "\n",
        "print(x)"
      ],
      "metadata": {
        "colab": {
          "base_uri": "https://localhost:8080/"
        },
        "id": "e9sXlbziRUno",
        "outputId": "6b598048-0ab1-41cf-ba77-f324912118c8"
      },
      "execution_count": null,
      "outputs": [
        {
          "output_type": "stream",
          "name": "stdout",
          "text": [
            "Power_divergenceResult(statistic=4.4252604238407915, pvalue=0.3515018763487161)\n"
          ]
        }
      ]
    },
    {
      "cell_type": "markdown",
      "source": [
        "## Students Paired t-Test"
      ],
      "metadata": {
        "id": "YO-pLKLUR64v"
      }
    },
    {
      "cell_type": "code",
      "source": [
        "import numpy as np\n",
        "import scipy.stats as stats\n",
        "import math\n",
        "import pandas as pd\n",
        "\n",
        "#Datasets\n",
        "dataset1 = pd.read_excel(\"Red_Admiral_Data.xlsx\", usecols=\"B\").to_numpy()\n",
        "dataset2 = pd.read_excel(\"Red_Admiral_Data.xlsx\", usecols=\"C\").to_numpy()\n",
        "\n",
        "#Calculate statistics\n",
        "differences = np.subtract(dataset1,dataset2)    #Calculate differences\n",
        "mu = np.mean(differences)                       #Calculate mean\n",
        "variance = np.var(differences)                  #Calculate variance\n",
        "sigma = math.sqrt(variance)                     #Calculate standard deviation\n",
        "sqrtn = math.sqrt(len(differences))             #Calculate sqrt of n\n",
        "t = (mu*sqrtn)/sigma                            #Calculate t\n",
        "\n",
        "#Print statistics\n",
        "print(\"mu=\", mu)\n",
        "print(\"stdev=\", sigma)\n",
        "print(\"t=\",t)"
      ],
      "metadata": {
        "colab": {
          "base_uri": "https://localhost:8080/"
        },
        "id": "HdIDS25sSNfU",
        "outputId": "2820bd91-fdde-4e59-d988-00b7166c1334"
      },
      "execution_count": null,
      "outputs": [
        {
          "output_type": "stream",
          "name": "stdout",
          "text": [
            "mu= -0.8\n",
            "stdev= 0.7483314773547883\n",
            "t= -4.780914437337574\n"
          ]
        }
      ]
    },
    {
      "cell_type": "markdown",
      "source": [
        "## Students Unpaired t-Test"
      ],
      "metadata": {
        "id": "77YYp_NvTcP9"
      }
    },
    {
      "cell_type": "code",
      "source": [
        "import numpy as np\n",
        "import scipy.stats as stats\n",
        "import math\n",
        "import pandas as pd\n",
        "\n",
        "#Datasets\n",
        "dataset1 = pd.read_excel(\"Red_Admiral_Data.xlsx\", sheet_name = 0, usecols=\"B\").to_numpy()\n",
        "dataset2 = pd.read_excel(\"Red_Admiral_Data.xlsx\", sheet_name = 1, usecols=\"B\").to_numpy()\n",
        "\n",
        "#Calculate statistics\n",
        "mu_1 = np.mean(dataset1)                             #Calculate mean of dataset 1\n",
        "var_1 = np.var(dataset1)                             #Calculate variance of dataset 1\n",
        "n_1 = len(dataset1)                                  #Calculate n in set 1\n",
        "mu_2 = np.mean(dataset2)                             #Calculate mean of dataset 2\n",
        "var_2 = np.var(dataset2)                             #Calculate variance of dataset 2\n",
        "n_2 = len(dataset2)                                  #Calculate n in set 2\n",
        "t = (mu_1-mu_2)/np.sqrt(((var_1/n_1)+(var_2/n_2)))   #Calculate t\n",
        "\n",
        "#Print statistics\n",
        "print(\"mu_1=\", mu_1, \"mu_2=\", mu_2)\n",
        "print(\"var_1=\", var_1, \"var_2=\", var_2)\n",
        "print(\"n_1=\", n_1, \"n_2=\", n_2)\n",
        "print(\"t=\",t)\n"
      ],
      "metadata": {
        "colab": {
          "base_uri": "https://localhost:8080/"
        },
        "id": "BtuWuzINTg4b",
        "outputId": "a1817b43-8a89-402e-b907-b8e6a26a4f18"
      },
      "execution_count": null,
      "outputs": [
        {
          "output_type": "stream",
          "name": "stdout",
          "text": [
            "mu_1= 53.075 mu_2= 50.9\n",
            "var_1= 68.411875 var_2= 62.14875000000001\n",
            "n_1= 20 n_2= 16\n",
            "t= 0.8047340959708877\n"
          ]
        }
      ]
    },
    {
      "cell_type": "markdown",
      "source": [
        "## Pearson's Correlation Coefficient"
      ],
      "metadata": {
        "id": "_PUl5-vEVC1f"
      }
    },
    {
      "cell_type": "code",
      "source": [
        "import numpy as np\n",
        "import scipy.stats as stats\n",
        "import math\n",
        "import pandas as pd\n",
        "\n",
        "#Data\n",
        "df = pd.read_excel(\"Red_Admiral_Data.xlsx\", sheet_name = 0, usecols=\"B, D\").to_numpy().T\n",
        "x = df[0,:]\n",
        "y = df[1,:]\n",
        "\n",
        "#Calculate r\n",
        "r=stats.pearsonr(x,y)\n",
        "\n",
        "print(\"r=\",r[0])"
      ],
      "metadata": {
        "colab": {
          "base_uri": "https://localhost:8080/"
        },
        "id": "2DruyGVrVNek",
        "outputId": "3469cbf9-d7da-4f8d-b3f7-e4ceb197041d"
      },
      "execution_count": null,
      "outputs": [
        {
          "output_type": "stream",
          "name": "stdout",
          "text": [
            "r= 0.4365355711325759\n"
          ]
        }
      ]
    },
    {
      "cell_type": "markdown",
      "source": [
        "## Scatter-plot and Regression Line"
      ],
      "metadata": {
        "id": "m8XFiKuSV_jQ"
      }
    },
    {
      "cell_type": "code",
      "source": [
        "import numpy as np\n",
        "import matplotlib.pyplot as plt\n",
        "import pandas as pd\n",
        "\n",
        "#Load data\n",
        "df = pd.read_excel(\"Red_Admiral_Data.xlsx\", sheet_name = 0, usecols=\"B, D\").to_numpy().T\n",
        "x = df[0,:]\n",
        "y = df[1,:]\n",
        "\n",
        "#Plot \n",
        "plt.plot(x,y,'x')                                            #Plot co-ordinates with 'x'\n",
        "m, b = np.polyfit(x,y,1) \n",
        "print(m , b)                                    #Produce linear regression equation\n",
        "plt.plot(x, m*x+b)                                           #Plot linear regression\n",
        "plt.title('Scatter Plot')                                    #Add title\n",
        "plt.xlabel('Wingspan within 24 hours of emergence (mm)')     #Add x label based on first header\n",
        "plt.ylabel('Mass within 24 hours of emergence (g)')          #Add y label based on second header\n",
        "plt.show()"
      ],
      "metadata": {
        "colab": {
          "base_uri": "https://localhost:8080/",
          "height": 316
        },
        "id": "yFPVYOTWWFIw",
        "outputId": "cf42dcf3-0ffb-4885-f1cf-c9450f0744a3"
      },
      "execution_count": null,
      "outputs": [
        {
          "output_type": "stream",
          "name": "stdout",
          "text": [
            "0.002734466786650709 0.16446817529851365\n"
          ]
        },
        {
          "output_type": "display_data",
          "data": {
            "text/plain": [
              "<Figure size 432x288 with 1 Axes>"
            ],
            "image/png": "[encoded data removed]"
          },
          "metadata": {}
        }
      ]
    },
    {
      "cell_type": "code",
      "source": [
        "import numpy as np\n",
        "import matplotlib.pyplot as plt\n",
        "import pandas as pd\n",
        "import statistics\n",
        "\n",
        "#Load data\n",
        "df = pd.read_excel(\"Red_Admiral_Data.xlsx\", sheet_name = 0, usecols=\"B, D\").to_numpy().T\n",
        "x = df[0,:]\n",
        "y = df[1,:]\n",
        "\n",
        "sigmay = statistics.pstdev(y)\n",
        "sigmax = statistics.pstdev(x)\n",
        "r=stats.pearsonr(x,y)\n",
        "\n",
        "Beta = r[0] * (sigmay / sigmax)\n",
        "\n",
        "Alpha = np.mean(y) - (Beta * np.mean(x))\n",
        "\n",
        "print(Beta)\n",
        "print(Alpha)\n"
      ],
      "metadata": {
        "colab": {
          "base_uri": "https://localhost:8080/"
        },
        "id": "ofNT7C62zOmg",
        "outputId": "3c445c70-322a-49e9-e9f1-fcac29d61c0a"
      },
      "execution_count": null,
      "outputs": [
        {
          "output_type": "stream",
          "name": "stdout",
          "text": [
            "0.0027344667866507104\n",
            "0.1644681752985135\n"
          ]
        }
      ]
    },
    {
      "cell_type": "markdown",
      "source": [
        "## Spearman's Correlation Coefficient"
      ],
      "metadata": {
        "id": "g0Ei6ACJWP-R"
      }
    },
    {
      "cell_type": "code",
      "source": [
        "import numpy as np\n",
        "import scipy.stats as stats\n",
        "import math\n",
        "import pandas as pd\n",
        "\n",
        "#Datasets\n",
        "df = pd.read_excel(\"Red_Admiral_Data.xlsx\", sheet_name = 0, usecols=\"B, D\").to_numpy().T\n",
        "x = df[0,:]\n",
        "y = df[1,:]\n",
        "\n",
        "#Calculate r\n",
        "r=stats.spearmanr(x,y)\n",
        "\n",
        "print(\"r=\",r[0])"
      ],
      "metadata": {
        "id": "O15MQmmsWTlR",
        "outputId": "2112f839-92b5-4f0d-9a33-1c2fee6451ac",
        "colab": {
          "base_uri": "https://localhost:8080/"
        }
      },
      "execution_count": null,
      "outputs": [
        {
          "output_type": "stream",
          "name": "stdout",
          "text": [
            "r= 0.23587065221912543\n"
          ]
        }
      ]
    }
  ]
}